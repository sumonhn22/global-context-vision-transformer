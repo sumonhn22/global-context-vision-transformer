{
 "cells": [
  {
   "cell_type": "markdown",
   "id": "694f7d2c",
   "metadata": {
    "papermill": {
     "duration": 0.023502,
     "end_time": "2022-07-21T04:31:31.706872",
     "exception": false,
     "start_time": "2022-07-21T04:31:31.683370",
     "status": "completed"
    },
    "tags": []
   },
   "source": [
    "# [GCViT: Global Context Vision Transformer](https://arxiv.org/pdf/2206.09959v1.pdf)\n",
    "\n",
    "\n",
    "<div align=center><img src=\"https://raw.githubusercontent.com/awsaf49/gcvit-tf/main/image/lvg_arch.PNG\" width=800></div>\n",
    "\n",
    "<br>\n",
    "<div align=center><p>\n",
    "<a target=\"_blank\" href=\"https://huggingface.co/spaces/awsaf49/gcvit-tf\"><img src=\"https://img.shields.io/badge/🤗%20Hugging%20Face-Spaces-yellow.svg\"></a>\n",
    "</p></div>\n",
    "</br>\n",
    "\n",
    "* Code: https://github.com/awsaf49/gcvit-tf\n",
    " \n",
    "    \n",
    "    "
   ]
  },
  {
   "cell_type": "code",
   "execution_count": 1,
   "id": "b0b7d087",
   "metadata": {
    "collapsed": true,
    "execution": {
     "iopub.execute_input": "2022-07-21T04:31:31.748364Z",
     "iopub.status.busy": "2022-07-21T04:31:31.747082Z",
     "iopub.status.idle": "2022-07-21T04:32:06.634794Z",
     "shell.execute_reply": "2022-07-21T04:32:06.633921Z",
     "shell.execute_reply.started": "2022-07-21T03:44:00.405357Z"
    },
    "jupyter": {
     "outputs_hidden": true
    },
    "papermill": {
     "duration": 34.908443,
     "end_time": "2022-07-21T04:32:06.634990",
     "exception": false,
     "start_time": "2022-07-21T04:31:31.726547",
     "status": "completed"
    },
    "tags": []
   },
   "outputs": [
    {
     "name": "stdout",
     "output_type": "stream",
     "text": [
      "\u001b[33mWARNING: Running pip as the 'root' user can result in broken permissions and conflicting behaviour with the system package manager. It is recommended to use a virtual environment instead: https://pip.pypa.io/warnings/venv\u001b[0m\r\n"
     ]
    }
   ],
   "source": [
    "!pip install -qU gcvit # stable\n",
    "# !pip install -qU git+https://github.com/awsaf49/gcvit-tf # latest but unstable"
   ]
  },
  {
   "cell_type": "code",
   "execution_count": 2,
   "id": "e9309ca9",
   "metadata": {
    "_cell_guid": "b1076dfc-b9ad-4769-8c92-a6c4dae69d19",
    "_uuid": "8f2839f25d086af736a60e9eeb907d3b93b6e0e5",
    "execution": {
     "iopub.execute_input": "2022-07-21T04:32:06.682100Z",
     "iopub.status.busy": "2022-07-21T04:32:06.681373Z",
     "iopub.status.idle": "2022-07-21T04:32:12.536934Z",
     "shell.execute_reply": "2022-07-21T04:32:12.536289Z",
     "shell.execute_reply.started": "2022-07-21T04:03:14.429544Z"
    },
    "papermill": {
     "duration": 5.883446,
     "end_time": "2022-07-21T04:32:12.537113",
     "exception": false,
     "start_time": "2022-07-21T04:32:06.653667",
     "status": "completed"
    },
    "tags": []
   },
   "outputs": [
    {
     "name": "stderr",
     "output_type": "stream",
     "text": [
      "2022-07-21 04:32:07.430533: W tensorflow/stream_executor/platform/default/dso_loader.cc:60] Could not load dynamic library 'libcudart.so.11.0'; dlerror: libcudart.so.11.0: cannot open shared object file: No such file or directory; LD_LIBRARY_PATH: /opt/conda/lib\n",
      "2022-07-21 04:32:07.430696: I tensorflow/stream_executor/cuda/cudart_stub.cc:29] Ignore above cudart dlerror if you do not have a GPU set up on your machine.\n"
     ]
    },
    {
     "name": "stdout",
     "output_type": "stream",
     "text": [
      "Tensorflow version: 2.4.1\n",
      "GCViT version:  1.0.6\n"
     ]
    }
   ],
   "source": [
    "import numpy as np\n",
    "import os\n",
    "import matplotlib.pyplot as plt\n",
    "import tensorflow as tf\n",
    "from kaggle_datasets import KaggleDatasets\n",
    "import gcvit\n",
    "\n",
    "print(\"Tensorflow version: \" + tf.__version__)\n",
    "print(\"GCViT version: \", gcvit.__version__)"
   ]
  },
  {
   "cell_type": "markdown",
   "id": "33abd2c5",
   "metadata": {
    "papermill": {
     "duration": 0.01832,
     "end_time": "2022-07-21T04:32:12.574326",
     "exception": false,
     "start_time": "2022-07-21T04:32:12.556006",
     "status": "completed"
    },
    "tags": []
   },
   "source": [
    "# Detect my accelerator"
   ]
  },
  {
   "cell_type": "code",
   "execution_count": 3,
   "id": "1936e4cd",
   "metadata": {
    "execution": {
     "iopub.execute_input": "2022-07-21T04:32:12.615672Z",
     "iopub.status.busy": "2022-07-21T04:32:12.614599Z",
     "iopub.status.idle": "2022-07-21T04:32:19.151566Z",
     "shell.execute_reply": "2022-07-21T04:32:19.150965Z",
     "shell.execute_reply.started": "2022-07-21T03:45:06.845032Z"
    },
    "papermill": {
     "duration": 6.558683,
     "end_time": "2022-07-21T04:32:19.151714",
     "exception": false,
     "start_time": "2022-07-21T04:32:12.593031",
     "status": "completed"
    },
    "tags": []
   },
   "outputs": [
    {
     "name": "stderr",
     "output_type": "stream",
     "text": [
      "2022-07-21 04:32:12.621946: I tensorflow/compiler/jit/xla_cpu_device.cc:41] Not creating XLA devices, tf_xla_enable_xla_devices not set\n",
      "2022-07-21 04:32:12.624577: W tensorflow/stream_executor/platform/default/dso_loader.cc:60] Could not load dynamic library 'libcuda.so.1'; dlerror: libcuda.so.1: cannot open shared object file: No such file or directory; LD_LIBRARY_PATH: /opt/conda/lib\n",
      "2022-07-21 04:32:12.624616: W tensorflow/stream_executor/cuda/cuda_driver.cc:326] failed call to cuInit: UNKNOWN ERROR (303)\n",
      "2022-07-21 04:32:12.624644: I tensorflow/stream_executor/cuda/cuda_diagnostics.cc:156] kernel driver does not appear to be running on this host (d102c8e446b8): /proc/driver/nvidia/version does not exist\n",
      "2022-07-21 04:32:12.627292: I tensorflow/core/platform/cpu_feature_guard.cc:142] This TensorFlow binary is optimized with oneAPI Deep Neural Network Library (oneDNN) to use the following CPU instructions in performance-critical operations:  AVX2 FMA\n",
      "To enable them in other operations, rebuild TensorFlow with the appropriate compiler flags.\n",
      "2022-07-21 04:32:12.628665: I tensorflow/compiler/jit/xla_gpu_device.cc:99] Not creating XLA devices, tf_xla_enable_xla_devices not set\n",
      "2022-07-21 04:32:12.634900: I tensorflow/compiler/jit/xla_gpu_device.cc:99] Not creating XLA devices, tf_xla_enable_xla_devices not set\n",
      "2022-07-21 04:32:12.664817: I tensorflow/core/distributed_runtime/rpc/grpc_channel.cc:301] Initialize GrpcChannelCache for job worker -> {0 -> 10.0.0.2:8470}\n",
      "2022-07-21 04:32:12.664878: I tensorflow/core/distributed_runtime/rpc/grpc_channel.cc:301] Initialize GrpcChannelCache for job localhost -> {0 -> localhost:30019}\n",
      "2022-07-21 04:32:12.689914: I tensorflow/core/distributed_runtime/rpc/grpc_channel.cc:301] Initialize GrpcChannelCache for job worker -> {0 -> 10.0.0.2:8470}\n",
      "2022-07-21 04:32:12.689972: I tensorflow/core/distributed_runtime/rpc/grpc_channel.cc:301] Initialize GrpcChannelCache for job localhost -> {0 -> localhost:30019}\n",
      "2022-07-21 04:32:12.691472: I tensorflow/core/distributed_runtime/rpc/grpc_server_lib.cc:411] Started server with target: grpc://localhost:30019\n"
     ]
    }
   ],
   "source": [
    "try:\n",
    "    tpu = tf.distribute.cluster_resolver.TPUClusterResolver.connect()\n",
    "    strategy = tf.distribute.experimental.TPUStrategy(tpu)\n",
    "except:\n",
    "    tpu = None\n",
    "    strategy = tf.distribute.get_strategy()"
   ]
  },
  {
   "cell_type": "markdown",
   "id": "de1a7516",
   "metadata": {
    "papermill": {
     "duration": 0.020051,
     "end_time": "2022-07-21T04:32:19.190877",
     "exception": false,
     "start_time": "2022-07-21T04:32:19.170826",
     "status": "completed"
    },
    "tags": []
   },
   "source": [
    "# Get my data path"
   ]
  },
  {
   "cell_type": "code",
   "execution_count": 4,
   "id": "1007ff36",
   "metadata": {
    "execution": {
     "iopub.execute_input": "2022-07-21T04:32:19.235165Z",
     "iopub.status.busy": "2022-07-21T04:32:19.231511Z",
     "iopub.status.idle": "2022-07-21T04:32:19.626866Z",
     "shell.execute_reply": "2022-07-21T04:32:19.627399Z",
     "shell.execute_reply.started": "2022-07-21T03:45:20.365599Z"
    },
    "papermill": {
     "duration": 0.417921,
     "end_time": "2022-07-21T04:32:19.627593",
     "exception": false,
     "start_time": "2022-07-21T04:32:19.209672",
     "status": "completed"
    },
    "tags": []
   },
   "outputs": [],
   "source": [
    "GCS_DS_PATH = KaggleDatasets().get_gcs_path() # you can list the bucket with \"!gsutil ls $GCS_DS_PATH\""
   ]
  },
  {
   "cell_type": "markdown",
   "id": "fd3ca50d",
   "metadata": {
    "papermill": {
     "duration": 0.018873,
     "end_time": "2022-07-21T04:32:19.665370",
     "exception": false,
     "start_time": "2022-07-21T04:32:19.646497",
     "status": "completed"
    },
    "tags": []
   },
   "source": [
    "# Set some parameters"
   ]
  },
  {
   "cell_type": "code",
   "execution_count": 5,
   "id": "d10ab40b",
   "metadata": {
    "execution": {
     "iopub.execute_input": "2022-07-21T04:32:19.710275Z",
     "iopub.status.busy": "2022-07-21T04:32:19.708969Z",
     "iopub.status.idle": "2022-07-21T04:32:19.711146Z",
     "shell.execute_reply": "2022-07-21T04:32:19.711650Z",
     "shell.execute_reply.started": "2022-07-21T03:45:22.549917Z"
    },
    "papermill": {
     "duration": 0.027486,
     "end_time": "2022-07-21T04:32:19.711819",
     "exception": false,
     "start_time": "2022-07-21T04:32:19.684333",
     "status": "completed"
    },
    "tags": []
   },
   "outputs": [],
   "source": [
    "DIM = 224\n",
    "IMAGE_SIZE = [DIM, DIM] # at this size, a GPU will run out of memory. Use the TPU\n",
    "EPOCHS = 20\n",
    "BATCH_SIZE = 32 * strategy.num_replicas_in_sync\n",
    "\n",
    "NUM_TRAINING_IMAGES = 12753\n",
    "NUM_TEST_IMAGES = 7382\n",
    "STEPS_PER_EPOCH = NUM_TRAINING_IMAGES // BATCH_SIZE\n",
    "AUTO = tf.data.experimental.AUTOTUNE"
   ]
  },
  {
   "cell_type": "markdown",
   "id": "90cce653",
   "metadata": {
    "papermill": {
     "duration": 0.018481,
     "end_time": "2022-07-21T04:32:19.749274",
     "exception": false,
     "start_time": "2022-07-21T04:32:19.730793",
     "status": "completed"
    },
    "tags": []
   },
   "source": [
    "# Load my data\n",
    "\n",
    "This data is loaded from Kaggle and automatically sharded to maximize parallelization."
   ]
  },
  {
   "cell_type": "code",
   "execution_count": 6,
   "id": "524b6c80",
   "metadata": {
    "execution": {
     "iopub.execute_input": "2022-07-21T04:32:19.806857Z",
     "iopub.status.busy": "2022-07-21T04:32:19.806087Z",
     "iopub.status.idle": "2022-07-21T04:32:20.160021Z",
     "shell.execute_reply": "2022-07-21T04:32:20.160589Z",
     "shell.execute_reply.started": "2022-07-21T03:45:24.823008Z"
    },
    "papermill": {
     "duration": 0.391992,
     "end_time": "2022-07-21T04:32:20.160765",
     "exception": false,
     "start_time": "2022-07-21T04:32:19.768773",
     "status": "completed"
    },
    "tags": []
   },
   "outputs": [
    {
     "name": "stderr",
     "output_type": "stream",
     "text": [
      "2022-07-21 04:32:19.810416: I tensorflow/core/platform/cloud/google_auth_provider.cc:180] Attempting an empty bearer token since no token was retrieved from files, and GCE metadata check was skipped.\n",
      "2022-07-21 04:32:20.059660: I tensorflow/core/platform/cloud/google_auth_provider.cc:180] Attempting an empty bearer token since no token was retrieved from files, and GCE metadata check was skipped.\n"
     ]
    }
   ],
   "source": [
    "def decode_image(image_data):\n",
    "    image = tf.image.decode_jpeg(image_data, channels=3)\n",
    "    image = tf.cast(image, tf.float32) / 255.0  # convert image to floats in [0, 1] range\n",
    "    image = tf.reshape(image, [*IMAGE_SIZE, 3]) # explicit size needed for TPU\n",
    "    return image\n",
    "\n",
    "def read_labeled_tfrecord(example):\n",
    "    LABELED_TFREC_FORMAT = {\n",
    "        \"image\": tf.io.FixedLenFeature([], tf.string), # tf.string means bytestring\n",
    "        \"class\": tf.io.FixedLenFeature([], tf.int64),  # shape [] means single element\n",
    "    }\n",
    "    example = tf.io.parse_single_example(example, LABELED_TFREC_FORMAT)\n",
    "    image = decode_image(example['image'])\n",
    "    label = tf.cast(example['class'], tf.int32)\n",
    "    return image, label # returns a dataset of (image, label) pairs\n",
    "\n",
    "def read_unlabeled_tfrecord(example):\n",
    "    UNLABELED_TFREC_FORMAT = {\n",
    "        \"image\": tf.io.FixedLenFeature([], tf.string), # tf.string means bytestring\n",
    "        \"id\": tf.io.FixedLenFeature([], tf.string),  # shape [] means single element\n",
    "        # class is missing, this competitions's challenge is to predict flower classes for the test dataset\n",
    "    }\n",
    "    example = tf.io.parse_single_example(example, UNLABELED_TFREC_FORMAT)\n",
    "    image = decode_image(example['image'])\n",
    "    idnum = example['id']\n",
    "    return image, idnum # returns a dataset of image(s)\n",
    "\n",
    "def load_dataset(filenames, labeled=True, ordered=False):\n",
    "    # Read from TFRecords. For optimal performance, reading from multiple files at once and\n",
    "    # disregarding data order. Order does not matter since we will be shuffling the data anyway.\n",
    "\n",
    "    ignore_order = tf.data.Options()\n",
    "    if not ordered:\n",
    "        ignore_order.experimental_deterministic = False # disable order, increase speed\n",
    "\n",
    "    dataset = tf.data.TFRecordDataset(filenames, num_parallel_reads=AUTO) # automatically interleaves reads from multiple files\n",
    "    dataset = dataset.with_options(ignore_order) # uses data as soon as it streams in, rather than in its original order\n",
    "    dataset = dataset.map(read_labeled_tfrecord if labeled else read_unlabeled_tfrecord, num_parallel_calls=AUTO)\n",
    "    # returns a dataset of (image, label) pairs if labeled=True or (image, id) pairs if labeled=False\n",
    "    return dataset\n",
    "\n",
    "def get_training_dataset():\n",
    "    dataset = load_dataset(tf.io.gfile.glob(GCS_DS_PATH + F'/tfrecords-jpeg-{DIM}x{DIM}/train/*.tfrec'), labeled=True)\n",
    "    dataset = dataset.repeat() # the training dataset must repeat for several epochs\n",
    "    dataset = dataset.shuffle(2048)\n",
    "    dataset = dataset.batch(BATCH_SIZE)\n",
    "    dataset = dataset.prefetch(AUTO) # prefetch next batch while training (autotune prefetch buffer size)\n",
    "    return dataset\n",
    "\n",
    "def get_validation_dataset():\n",
    "    dataset = load_dataset(tf.io.gfile.glob(GCS_DS_PATH + F'/tfrecords-jpeg-{DIM}x{DIM}/val/*.tfrec'), labeled=True, ordered=False)\n",
    "    dataset = dataset.batch(BATCH_SIZE)\n",
    "    dataset = dataset.cache()\n",
    "    dataset = dataset.prefetch(AUTO) # prefetch next batch while training (autotune prefetch buffer size)\n",
    "    return dataset\n",
    "\n",
    "def get_test_dataset(ordered=False):\n",
    "    dataset = load_dataset(tf.io.gfile.glob(GCS_DS_PATH + f'/tfrecords-jpeg-{DIM}x{DIM}/test/*.tfrec'), labeled=False, ordered=ordered)\n",
    "    dataset = dataset.batch(BATCH_SIZE)\n",
    "    dataset = dataset.prefetch(AUTO) # prefetch next batch while training (autotune prefetch buffer size)\n",
    "    return dataset\n",
    "\n",
    "training_dataset = get_training_dataset()\n",
    "validation_dataset = get_validation_dataset()"
   ]
  },
  {
   "cell_type": "markdown",
   "id": "32b2fea3",
   "metadata": {
    "papermill": {
     "duration": 0.019127,
     "end_time": "2022-07-21T04:32:20.199277",
     "exception": false,
     "start_time": "2022-07-21T04:32:20.180150",
     "status": "completed"
    },
    "tags": []
   },
   "source": [
    "# Learning Rate Scheduler"
   ]
  },
  {
   "cell_type": "code",
   "execution_count": 7,
   "id": "c0712336",
   "metadata": {
    "execution": {
     "iopub.execute_input": "2022-07-21T04:32:20.247397Z",
     "iopub.status.busy": "2022-07-21T04:32:20.246347Z",
     "iopub.status.idle": "2022-07-21T04:32:20.504650Z",
     "shell.execute_reply": "2022-07-21T04:32:20.504106Z",
     "shell.execute_reply.started": "2022-07-21T03:45:25.727283Z"
    },
    "papermill": {
     "duration": 0.286257,
     "end_time": "2022-07-21T04:32:20.504804",
     "exception": false,
     "start_time": "2022-07-21T04:32:20.218547",
     "status": "completed"
    },
    "tags": []
   },
   "outputs": [
    {
     "name": "stdout",
     "output_type": "stream",
     "text": [
      "Learning rate schedule: 1e-05 to 0.0004 to 1.56e-05\n"
     ]
    },
    {
     "data": {
      "image/png": "[encoded data removed]",
      "text/plain": [
       "<Figure size 432x288 with 1 Axes>"
      ]
     },
     "metadata": {
      "needs_background": "light"
     },
     "output_type": "display_data"
    }
   ],
   "source": [
    "# Learning rate schedule for TPU, GPU and CPU.\n",
    "# Using an LR ramp up because fine-tuning a pre-trained model.\n",
    "# Starting with a high LR would break the pre-trained weights.\n",
    "\n",
    "LR_START = 0.00001\n",
    "LR_MAX = 0.00005 * strategy.num_replicas_in_sync\n",
    "LR_MIN = 0.00001\n",
    "LR_RAMPUP_EPOCHS = 5\n",
    "LR_SUSTAIN_EPOCHS = 0\n",
    "LR_EXP_DECAY = .8\n",
    "\n",
    "def lrfn(epoch):\n",
    "    if epoch < LR_RAMPUP_EPOCHS:\n",
    "        lr = (LR_MAX - LR_START) / LR_RAMPUP_EPOCHS * epoch + LR_START\n",
    "    elif epoch < LR_RAMPUP_EPOCHS + LR_SUSTAIN_EPOCHS:\n",
    "        lr = LR_MAX\n",
    "    else:\n",
    "        lr = (LR_MAX - LR_MIN) * LR_EXP_DECAY**(epoch - LR_RAMPUP_EPOCHS - LR_SUSTAIN_EPOCHS) + LR_MIN\n",
    "    return lr\n",
    "    \n",
    "lr_callback = tf.keras.callbacks.LearningRateScheduler(lrfn, verbose = False)\n",
    "\n",
    "rng = [i for i in range(25 if EPOCHS<25 else EPOCHS)]\n",
    "y = [lrfn(x) for x in rng]\n",
    "plt.plot(rng, y, '-o')\n",
    "print(\"Learning rate schedule: {:.3g} to {:.3g} to {:.3g}\".format(y[0], max(y), y[-1]))"
   ]
  },
  {
   "cell_type": "markdown",
   "id": "6981c7be",
   "metadata": {
    "papermill": {
     "duration": 0.020493,
     "end_time": "2022-07-21T04:32:20.546247",
     "exception": false,
     "start_time": "2022-07-21T04:32:20.525754",
     "status": "completed"
    },
    "tags": []
   },
   "source": [
    "# Build a model"
   ]
  },
  {
   "cell_type": "code",
   "execution_count": 8,
   "id": "a0c871ff",
   "metadata": {
    "execution": {
     "iopub.execute_input": "2022-07-21T04:32:20.592466Z",
     "iopub.status.busy": "2022-07-21T04:32:20.591476Z",
     "iopub.status.idle": "2022-07-21T04:32:49.880740Z",
     "shell.execute_reply": "2022-07-21T04:32:49.881282Z",
     "shell.execute_reply.started": "2022-07-21T04:04:30.735118Z"
    },
    "papermill": {
     "duration": 29.314328,
     "end_time": "2022-07-21T04:32:49.881463",
     "exception": false,
     "start_time": "2022-07-21T04:32:20.567135",
     "status": "completed"
    },
    "tags": []
   },
   "outputs": [
    {
     "name": "stdout",
     "output_type": "stream",
     "text": [
      "Downloading data from https://github.com/awsaf49/gcvit-tf/releases/download/v1.0.4/gcvit_tiny_weights.h5\n",
      "113500160/113494248 [==============================] - 2s 0us/step\n",
      "Model: \"gcvit_tiny\"\n",
      "_________________________________________________________________\n",
      "Layer (type)                 Output Shape              Param #   \n",
      "=================================================================\n",
      "input_1 (InputLayer)         [(None, 224, 224, 3)]     0         \n",
      "_________________________________________________________________\n",
      "patch_embed (PatchEmbed)     (None, 56, 56, 64)        45632     \n",
      "_________________________________________________________________\n",
      "pos_drop (Dropout)           (None, 56, 56, 64)        0         \n",
      "_________________________________________________________________\n",
      "tf.cast (TFOpLambda)         (None, 56, 56, 64)        0         \n",
      "_________________________________________________________________\n",
      "levels/0 (GCViTLayer)        (None, 28, 28, 128)       223030    \n",
      "_________________________________________________________________\n",
      "levels/1 (GCViTLayer)        (None, 14, 14, 256)       1004048   \n",
      "_________________________________________________________________\n",
      "levels/2 (GCViTLayer)        (None, 7, 7, 512)         13411288  \n",
      "_________________________________________________________________\n",
      "levels/3 (GCViTLayer)        (None, 7, 7, 512)         13023952  \n",
      "_________________________________________________________________\n",
      "norm (LayerNormalization)    (None, 7, 7, 512)         1024      \n",
      "_________________________________________________________________\n",
      "pool (GlobalAveragePooling2D (None, 512)               0         \n",
      "_________________________________________________________________\n",
      "head/fc (Dense)              (None, 104)               53352     \n",
      "_________________________________________________________________\n",
      "head/act (Activation)        (None, 104)               0         \n",
      "=================================================================\n",
      "Total params: 27,762,326\n",
      "Trainable params: 27,762,326\n",
      "Non-trainable params: 0\n",
      "_________________________________________________________________\n"
     ]
    }
   ],
   "source": [
    "from gcvit import GCViTTiny\n",
    "\n",
    "with strategy.scope():    \n",
    "    model = GCViTTiny(input_shape=(*IMAGE_SIZE,3), pretrain=True)\n",
    "    model.reset_classifier(num_classes=104, head_act='softmax')\n",
    "        \n",
    "model.compile(\n",
    "    optimizer='adam',\n",
    "    loss='sparse_categorical_crossentropy',\n",
    "    metrics=['sparse_categorical_accuracy']\n",
    ")\n",
    "\n",
    "model.build_graph().summary()"
   ]
  },
  {
   "cell_type": "markdown",
   "id": "3f3b3d01",
   "metadata": {
    "papermill": {
     "duration": 0.030844,
     "end_time": "2022-07-21T04:32:49.943423",
     "exception": false,
     "start_time": "2022-07-21T04:32:49.912579",
     "status": "completed"
    },
    "tags": []
   },
   "source": [
    "# Save Checkpoint"
   ]
  },
  {
   "cell_type": "code",
   "execution_count": 9,
   "id": "13d8259a",
   "metadata": {
    "execution": {
     "iopub.execute_input": "2022-07-21T04:32:50.011195Z",
     "iopub.status.busy": "2022-07-21T04:32:50.010529Z",
     "iopub.status.idle": "2022-07-21T04:32:50.015190Z",
     "shell.execute_reply": "2022-07-21T04:32:50.014498Z",
     "shell.execute_reply.started": "2022-07-21T04:16:27.059916Z"
    },
    "papermill": {
     "duration": 0.040999,
     "end_time": "2022-07-21T04:32:50.015338",
     "exception": false,
     "start_time": "2022-07-21T04:32:49.974339",
     "status": "completed"
    },
    "tags": []
   },
   "outputs": [],
   "source": [
    "ckpt_path = 'model.h5'\n",
    "ckpt_callback = tf.keras.callbacks.ModelCheckpoint(\n",
    "    filepath=ckpt_path,\n",
    "    save_best_only=True,\n",
    "    save_weights_only=True,\n",
    "    monitor='val_sparse_categorical_accuracy',\n",
    "    mode='max',\n",
    "    verbose=1)"
   ]
  },
  {
   "cell_type": "markdown",
   "id": "bec40024",
   "metadata": {
    "papermill": {
     "duration": 0.031067,
     "end_time": "2022-07-21T04:32:50.081453",
     "exception": false,
     "start_time": "2022-07-21T04:32:50.050386",
     "status": "completed"
    },
    "tags": []
   },
   "source": [
    "# Training"
   ]
  },
  {
   "cell_type": "code",
   "execution_count": 10,
   "id": "110dad4d",
   "metadata": {
    "execution": {
     "iopub.execute_input": "2022-07-21T04:32:50.154046Z",
     "iopub.status.busy": "2022-07-21T04:32:50.153265Z",
     "iopub.status.idle": "2022-07-21T04:44:25.275628Z",
     "shell.execute_reply": "2022-07-21T04:44:25.274903Z",
     "shell.execute_reply.started": "2022-07-21T04:16:28.971324Z"
    },
    "papermill": {
     "duration": 695.163623,
     "end_time": "2022-07-21T04:44:25.275933",
     "exception": false,
     "start_time": "2022-07-21T04:32:50.112310",
     "status": "completed"
    },
    "tags": []
   },
   "outputs": [
    {
     "name": "stdout",
     "output_type": "stream",
     "text": [
      "Epoch 1/20\n",
      "49/49 [==============================] - 249s 1s/step - loss: 4.6400 - sparse_categorical_accuracy: 0.0370 - val_loss: 3.9725 - val_sparse_categorical_accuracy: 0.1517\n"
     ]
    },
    {
     "name": "stderr",
     "output_type": "stream",
     "text": [
      "2022-07-21 04:36:59.475216: W ./tensorflow/core/distributed_runtime/eager/destroy_tensor_handle_node.h:57] Ignoring an error encountered when deleting remote tensors handles: Invalid argument: Unable to find the relevant tensor remote_handle: Op ID: 53080, Output num: 0\n",
      "Additional GRPC error information from remote target /job:worker/replica:0/task:0:\n",
      ":{\"created\":\"@1658378219.471797957\",\"description\":\"Error received from peer ipv4:10.0.0.2:8470\",\"file\":\"external/com_github_grpc_grpc/src/core/lib/surface/call.cc\",\"file_line\":1056,\"grpc_message\":\"Unable to find the relevant tensor remote_handle: Op ID: 53080, Output num: 0\",\"grpc_status\":3}\n"
     ]
    },
    {
     "name": "stdout",
     "output_type": "stream",
     "text": [
      "\n",
      "Epoch 00001: val_sparse_categorical_accuracy improved from -inf to 0.15167, saving model to model.h5\n",
      "Epoch 2/20\n",
      "49/49 [==============================] - 22s 450ms/step - loss: 2.9346 - sparse_categorical_accuracy: 0.3693 - val_loss: 0.6651 - val_sparse_categorical_accuracy: 0.8378\n",
      "\n",
      "Epoch 00002: val_sparse_categorical_accuracy improved from 0.15167 to 0.83782, saving model to model.h5\n",
      "Epoch 3/20\n",
      "49/49 [==============================] - 22s 451ms/step - loss: 0.7267 - sparse_categorical_accuracy: 0.8085 - val_loss: 0.3655 - val_sparse_categorical_accuracy: 0.9060\n",
      "\n",
      "Epoch 00003: val_sparse_categorical_accuracy improved from 0.83782 to 0.90598, saving model to model.h5\n",
      "Epoch 4/20\n",
      "49/49 [==============================] - 22s 453ms/step - loss: 0.3058 - sparse_categorical_accuracy: 0.9187 - val_loss: 0.3103 - val_sparse_categorical_accuracy: 0.9248\n",
      "\n",
      "Epoch 00004: val_sparse_categorical_accuracy improved from 0.90598 to 0.92484, saving model to model.h5\n",
      "Epoch 5/20\n",
      "49/49 [==============================] - 22s 451ms/step - loss: 0.1958 - sparse_categorical_accuracy: 0.9456 - val_loss: 0.3503 - val_sparse_categorical_accuracy: 0.9173\n",
      "\n",
      "Epoch 00005: val_sparse_categorical_accuracy did not improve from 0.92484\n",
      "Epoch 6/20\n",
      "49/49 [==============================] - 22s 452ms/step - loss: 0.1563 - sparse_categorical_accuracy: 0.9549 - val_loss: 0.4019 - val_sparse_categorical_accuracy: 0.9041\n",
      "\n",
      "Epoch 00006: val_sparse_categorical_accuracy did not improve from 0.92484\n",
      "Epoch 7/20\n",
      "49/49 [==============================] - 22s 451ms/step - loss: 0.1239 - sparse_categorical_accuracy: 0.9602 - val_loss: 0.3262 - val_sparse_categorical_accuracy: 0.9275\n",
      "\n",
      "Epoch 00007: val_sparse_categorical_accuracy improved from 0.92484 to 0.92753, saving model to model.h5\n",
      "Epoch 8/20\n",
      "49/49 [==============================] - 22s 453ms/step - loss: 0.0522 - sparse_categorical_accuracy: 0.9833 - val_loss: 0.2992 - val_sparse_categorical_accuracy: 0.9421\n",
      "\n",
      "Epoch 00008: val_sparse_categorical_accuracy improved from 0.92753 to 0.94208, saving model to model.h5\n",
      "Epoch 9/20\n",
      "49/49 [==============================] - 22s 452ms/step - loss: 0.0238 - sparse_categorical_accuracy: 0.9932 - val_loss: 0.2811 - val_sparse_categorical_accuracy: 0.9469\n",
      "\n",
      "Epoch 00009: val_sparse_categorical_accuracy improved from 0.94208 to 0.94693, saving model to model.h5\n",
      "Epoch 10/20\n",
      "49/49 [==============================] - 22s 452ms/step - loss: 0.0126 - sparse_categorical_accuracy: 0.9967 - val_loss: 0.2731 - val_sparse_categorical_accuracy: 0.9491\n",
      "\n",
      "Epoch 00010: val_sparse_categorical_accuracy improved from 0.94693 to 0.94908, saving model to model.h5\n",
      "Epoch 11/20\n",
      "49/49 [==============================] - 22s 452ms/step - loss: 0.0073 - sparse_categorical_accuracy: 0.9986 - val_loss: 0.2822 - val_sparse_categorical_accuracy: 0.9480\n",
      "\n",
      "Epoch 00011: val_sparse_categorical_accuracy did not improve from 0.94908\n",
      "Epoch 12/20\n",
      "49/49 [==============================] - 22s 454ms/step - loss: 0.0055 - sparse_categorical_accuracy: 0.9994 - val_loss: 0.2742 - val_sparse_categorical_accuracy: 0.9502\n",
      "\n",
      "Epoch 00012: val_sparse_categorical_accuracy improved from 0.94908 to 0.95016, saving model to model.h5\n",
      "Epoch 13/20\n",
      "49/49 [==============================] - 22s 453ms/step - loss: 0.0030 - sparse_categorical_accuracy: 0.9997 - val_loss: 0.2756 - val_sparse_categorical_accuracy: 0.9518\n",
      "\n",
      "Epoch 00013: val_sparse_categorical_accuracy improved from 0.95016 to 0.95178, saving model to model.h5\n",
      "Epoch 14/20\n",
      "49/49 [==============================] - 22s 452ms/step - loss: 0.0039 - sparse_categorical_accuracy: 0.9991 - val_loss: 0.2772 - val_sparse_categorical_accuracy: 0.9529\n",
      "\n",
      "Epoch 00014: val_sparse_categorical_accuracy improved from 0.95178 to 0.95286, saving model to model.h5\n",
      "Epoch 15/20\n",
      "49/49 [==============================] - 23s 476ms/step - loss: 0.0042 - sparse_categorical_accuracy: 0.9995 - val_loss: 0.2739 - val_sparse_categorical_accuracy: 0.9529\n",
      "\n",
      "Epoch 00015: val_sparse_categorical_accuracy did not improve from 0.95286\n",
      "Epoch 16/20\n",
      "49/49 [==============================] - 22s 453ms/step - loss: 0.0032 - sparse_categorical_accuracy: 0.9994 - val_loss: 0.2744 - val_sparse_categorical_accuracy: 0.9534\n",
      "\n",
      "Epoch 00016: val_sparse_categorical_accuracy improved from 0.95286 to 0.95339, saving model to model.h5\n",
      "Epoch 17/20\n",
      "49/49 [==============================] - 22s 454ms/step - loss: 0.0032 - sparse_categorical_accuracy: 0.9998 - val_loss: 0.2764 - val_sparse_categorical_accuracy: 0.9526\n",
      "\n",
      "Epoch 00017: val_sparse_categorical_accuracy did not improve from 0.95339\n",
      "Epoch 18/20\n",
      "49/49 [==============================] - 22s 453ms/step - loss: 0.0025 - sparse_categorical_accuracy: 0.9996 - val_loss: 0.2774 - val_sparse_categorical_accuracy: 0.9539\n",
      "\n",
      "Epoch 00018: val_sparse_categorical_accuracy improved from 0.95339 to 0.95393, saving model to model.h5\n",
      "Epoch 19/20\n",
      "49/49 [==============================] - 22s 451ms/step - loss: 0.0030 - sparse_categorical_accuracy: 0.9997 - val_loss: 0.2770 - val_sparse_categorical_accuracy: 0.9545\n",
      "\n",
      "Epoch 00019: val_sparse_categorical_accuracy improved from 0.95393 to 0.95447, saving model to model.h5\n",
      "Epoch 20/20\n",
      "49/49 [==============================] - 22s 454ms/step - loss: 0.0027 - sparse_categorical_accuracy: 0.9996 - val_loss: 0.2780 - val_sparse_categorical_accuracy: 0.9534\n",
      "\n",
      "Epoch 00020: val_sparse_categorical_accuracy did not improve from 0.95447\n"
     ]
    }
   ],
   "source": [
    "history = model.fit(training_dataset, \n",
    "          steps_per_epoch=STEPS_PER_EPOCH, \n",
    "          epochs=EPOCHS, \n",
    "          validation_data=validation_dataset,\n",
    "          callbacks=[lr_callback, ckpt_callback])"
   ]
  },
  {
   "cell_type": "markdown",
   "id": "5b7e22c8",
   "metadata": {
    "papermill": {
     "duration": 0.345288,
     "end_time": "2022-07-21T04:44:25.970320",
     "exception": false,
     "start_time": "2022-07-21T04:44:25.625032",
     "status": "completed"
    },
    "tags": []
   },
   "source": [
    "# History"
   ]
  },
  {
   "cell_type": "code",
   "execution_count": 11,
   "id": "0520a760",
   "metadata": {
    "execution": {
     "iopub.execute_input": "2022-07-21T04:44:26.704026Z",
     "iopub.status.busy": "2022-07-21T04:44:26.703027Z",
     "iopub.status.idle": "2022-07-21T04:44:27.251306Z",
     "shell.execute_reply": "2022-07-21T04:44:27.250664Z",
     "shell.execute_reply.started": "2022-07-21T04:17:58.240116Z"
    },
    "papermill": {
     "duration": 0.925679,
     "end_time": "2022-07-21T04:44:27.251455",
     "exception": false,
     "start_time": "2022-07-21T04:44:26.325776",
     "status": "completed"
    },
    "tags": []
   },
   "outputs": [
    {
     "data": {
      "image/png": "[encoded data removed]",
      "text/plain": [
       "<Figure size 720x360 with 1 Axes>"
      ]
     },
     "metadata": {
      "needs_background": "light"
     },
     "output_type": "display_data"
    },
    {
     "data": {
      "image/png": "[encoded data removed]",
      "text/plain": [
       "<Figure size 720x360 with 1 Axes>"
      ]
     },
     "metadata": {
      "needs_background": "light"
     },
     "output_type": "display_data"
    }
   ],
   "source": [
    "import pandas as pd\n",
    "import matplotlib as mpl\n",
    "mpl.rcParams['figure.figsize'] = (10, 5)\n",
    "data = pd.DataFrame(history.history)\n",
    "metrics = ['loss', 'sparse_categorical_accuracy']\n",
    "for metric in metrics:\n",
    "    data[[f'{metric}',f'val_{metric}']].plot()"
   ]
  },
  {
   "cell_type": "markdown",
   "id": "f7342314",
   "metadata": {
    "papermill": {
     "duration": 0.352602,
     "end_time": "2022-07-21T04:44:28.042835",
     "exception": false,
     "start_time": "2022-07-21T04:44:27.690233",
     "status": "completed"
    },
    "tags": []
   },
   "source": [
    "# Load Best Model"
   ]
  },
  {
   "cell_type": "code",
   "execution_count": 12,
   "id": "314d3a50",
   "metadata": {
    "execution": {
     "iopub.execute_input": "2022-07-21T04:44:28.758104Z",
     "iopub.status.busy": "2022-07-21T04:44:28.757312Z",
     "iopub.status.idle": "2022-07-21T04:44:33.672226Z",
     "shell.execute_reply": "2022-07-21T04:44:33.672778Z",
     "shell.execute_reply.started": "2022-07-21T04:18:08.992646Z"
    },
    "papermill": {
     "duration": 5.276986,
     "end_time": "2022-07-21T04:44:33.672983",
     "exception": false,
     "start_time": "2022-07-21T04:44:28.395997",
     "status": "completed"
    },
    "tags": []
   },
   "outputs": [],
   "source": [
    "# load best model\n",
    "model.load_weights(ckpt_path)"
   ]
  },
  {
   "cell_type": "markdown",
   "id": "896fc79a",
   "metadata": {
    "papermill": {
     "duration": 0.358971,
     "end_time": "2022-07-21T04:44:34.386402",
     "exception": false,
     "start_time": "2022-07-21T04:44:34.027431",
     "status": "completed"
    },
    "tags": []
   },
   "source": [
    "# Compute your predictions on the test set!\n",
    "\n",
    "This will create a file that can be submitted to the competition."
   ]
  },
  {
   "cell_type": "code",
   "execution_count": 13,
   "id": "c8d80fb9",
   "metadata": {
    "execution": {
     "iopub.execute_input": "2022-07-21T04:44:35.097894Z",
     "iopub.status.busy": "2022-07-21T04:44:35.097077Z",
     "iopub.status.idle": "2022-07-21T04:45:32.613457Z",
     "shell.execute_reply": "2022-07-21T04:45:32.612902Z",
     "shell.execute_reply.started": "2022-07-21T04:18:32.329030Z"
    },
    "papermill": {
     "duration": 57.878035,
     "end_time": "2022-07-21T04:45:32.613634",
     "exception": false,
     "start_time": "2022-07-21T04:44:34.735599",
     "status": "completed"
    },
    "tags": []
   },
   "outputs": [
    {
     "name": "stderr",
     "output_type": "stream",
     "text": [
      "2022-07-21 04:44:35.095336: I tensorflow/core/platform/cloud/google_auth_provider.cc:180] Attempting an empty bearer token since no token was retrieved from files, and GCE metadata check was skipped.\n"
     ]
    },
    {
     "name": "stdout",
     "output_type": "stream",
     "text": [
      "Computing predictions...\n",
      "29/29 [==============================] - 56s 820ms/step\n",
      "[ 67  28  83 ...  86 102  62]\n",
      "Generating submission.csv file...\n"
     ]
    },
    {
     "name": "stderr",
     "output_type": "stream",
     "text": [
      "2022-07-21 04:45:31.675574: W ./tensorflow/core/distributed_runtime/eager/destroy_tensor_handle_node.h:57] Ignoring an error encountered when deleting remote tensors handles: Invalid argument: Unable to find the relevant tensor remote_handle: Op ID: 111465, Output num: 0\n",
      "Additional GRPC error information from remote target /job:worker/replica:0/task:0:\n",
      ":{\"created\":\"@1658378731.675456045\",\"description\":\"Error received from peer ipv4:10.0.0.2:8470\",\"file\":\"external/com_github_grpc_grpc/src/core/lib/surface/call.cc\",\"file_line\":1056,\"grpc_message\":\"Unable to find the relevant tensor remote_handle: Op ID: 111465, Output num: 0\",\"grpc_status\":3}\n"
     ]
    }
   ],
   "source": [
    "# infer\n",
    "test_ds = get_test_dataset(ordered=True) # since we are splitting the dataset and iterating separately on images and ids, order matters.\n",
    "\n",
    "print('Computing predictions...')\n",
    "test_images_ds = test_ds.map(lambda image, idnum: image)\n",
    "probabilities = model.predict(test_images_ds, verbose=1)\n",
    "predictions = np.argmax(probabilities, axis=-1)\n",
    "print(predictions)\n",
    "\n",
    "print('Generating submission.csv file...')\n",
    "test_ids_ds = test_ds.map(lambda image, idnum: idnum).unbatch()\n",
    "test_ids = next(iter(test_ids_ds.batch(NUM_TEST_IMAGES))).numpy().astype('U') # all in one batch\n",
    "np.savetxt('submission.csv', np.rec.fromarrays([test_ids, predictions]), fmt=['%s', '%d'], delimiter=',', header='id,label', comments='')"
   ]
  }
 ],
 "metadata": {
  "kernelspec": {
   "display_name": "Python 3",
   "language": "python",
   "name": "python3"
  },
  "language_info": {
   "codemirror_mode": {
    "name": "ipython",
    "version": 3
   },
   "file_extension": ".py",
   "mimetype": "text/x-python",
   "name": "python",
   "nbconvert_exporter": "python",
   "pygments_lexer": "ipython3",
   "version": "3.7.10"
  },
  "papermill": {
   "default_parameters": {},
   "duration": 853.175407,
   "end_time": "2022-07-21T04:45:36.357992",
   "environment_variables": {},
   "exception": null,
   "input_path": "__notebook__.ipynb",
   "output_path": "__notebook__.ipynb",
   "parameters": {},
   "start_time": "2022-07-21T04:31:23.182585",
   "version": "2.3.3"
  }
 },
 "nbformat": 4,
 "nbformat_minor": 5
}
